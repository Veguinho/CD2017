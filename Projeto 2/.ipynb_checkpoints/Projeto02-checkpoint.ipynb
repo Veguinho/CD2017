{
 "cells": [
  {
   "cell_type": "markdown",
   "metadata": {},
   "source": [
    "# Projeto 2 - Classificador Automático de Sentimento\n",
    "\n",
    "Você foi contratado por uma empresa parar analisar como os clientes estão reagindo a um determinado produto no Twitter. A empresa deseja que você crie um programa que irá analisar as mensagens disponíveis e classificará como \"relevante\" ou \"irrelevante\". Com isso ela deseja que mensagens negativas, que denigrem o nome do produto, ou que mereçam destaque, disparem um foco de atenção da área de marketing.<br /><br />\n",
    "Como aluno de Ciência dos Dados, você lembrou do Teorema de Bayes, mais especificamente do Classificador Naive-Bayes, que é largamente utilizado em filtros anti-spam de e-mails. O classificador permite calcular qual a probabilidade de uma mensagem ser relevante dadas as palavras em seu conteúdo.<br /><br />\n",
    "Para realizar o MVP (*minimum viable product*) do projeto, você precisa implementar uma versão do classificador que \"aprende\" o que é relevante com uma base de treinamento e compara a performance dos resultados com uma base de testes.<br /><br />\n",
    "Após validado, o seu protótipo poderá também capturar e classificar automaticamente as mensagens da plataforma.\n",
    "\n",
    "## Informações do Projeto\n",
    "\n",
    "Prazo: 13/Set até às 23:59.<br />\n",
    "Grupo: 1 ou 2 pessoas.<br /><br />\n",
    "Entregáveis via GitHub: \n",
    "* Arquivo notebook com o código do classificador, seguindo as orientações abaixo.\n",
    "* Arquivo Excel com as bases de treinamento e teste totalmente classificado.\n",
    "\n",
    "**NÃO disponibilizar o arquivo com os *access keys/tokens* do Twitter.**\n",
    "\n",
    "\n",
    "### Check 3: \n",
    "\n",
    "Até o dia 06 de Setembro às 23:59, o notebook e o xlsx devem estar no Github com as seguintes evidências: \n",
    "    * Conta no twitter criada.\n",
    "    * Produto escolhido.\n",
    "    * Arquivo Excel contendo a base de treinamento e teste já classificado.\n",
    "    \n",
    "\n",
    "Sugestão de leitura:<br />\n",
    "http://docs.tweepy.org/en/v3.5.0/index.html<br />\n",
    "https://monkeylearn.com/blog/practical-explanation-naive-bayes-classifier/"
   ]
  },
  {
   "cell_type": "markdown",
   "metadata": {},
   "source": [
    "___\n",
    "\n",
    "## Preparando o ambiente\n",
    "\n",
    "Instalando a biblioteca *tweepy* para realizar a conexão com o Twitter:"
   ]
  },
  {
   "cell_type": "code",
   "execution_count": 1,
   "metadata": {
    "collapsed": true
   },
   "outputs": [],
   "source": [
    "%%capture\n",
    "\n",
    "#Instalando o tweepy\n",
    "!pip install tweepy"
   ]
  },
  {
   "cell_type": "markdown",
   "metadata": {},
   "source": [
    "Importando as Bibliotecas que serão utilizadas. Esteja livre para adicionar outras."
   ]
  },
  {
   "cell_type": "code",
   "execution_count": 2,
   "metadata": {
    "collapsed": true
   },
   "outputs": [],
   "source": [
    "import tweepy\n",
    "import math\n",
    "import os.path\n",
    "import pandas as pd\n",
    "import json\n",
    "from random import shuffle"
   ]
  },
  {
   "cell_type": "markdown",
   "metadata": {},
   "source": [
    "___\n",
    "## Autenticando no  Twitter\n",
    "\n",
    "Para realizar a captura dos dados é necessário ter uma conta cadastrada no twitter:\n",
    "\n",
    "* Conta: ***[Preencha aqui o id da sua conta. Ex: @fulano ]***\n",
    "\n",
    "\n",
    "1. Caso ainda não tenha uma: https://twitter.com/signup\n",
    "1. Depois é necessário registrar um app para usar a biblioteca: https://apps.twitter.com/\n",
    "1. Dentro do registro do App, na aba Keys and Access Tokens, anotar os seguintes campos:\n",
    "    1. Consumer Key (API Key)\n",
    "    1. Consumer Secret (API Secret)\n",
    "1. Mais abaixo, gere um Token e anote também:\n",
    "    1. Access Token\n",
    "    1. Access Token Secret\n",
    "    \n",
    "1. Preencha os valores no arquivo \"auth.pass\"\n",
    "\n",
    "**ATENÇÃO**: Nunca divulgue os dados desse arquivo online (GitHub, etc). Ele contém as chaves necessárias para realizar as operações no twitter de forma automática e portanto é equivalente a ser \"hackeado\". De posse desses dados, pessoas mal intencionadas podem fazer todas as operações manuais (tweetar, seguir, bloquear/desbloquear, listar os seguidores, etc). Para efeito do projeto, esse arquivo não precisa ser entregue!!!"
   ]
  },
  {
   "cell_type": "code",
   "execution_count": 3,
   "metadata": {
    "collapsed": true
   },
   "outputs": [],
   "source": [
    "#Dados de autenticação do twitter:\n",
    "\n",
    "#Coloque aqui o identificador da conta no twitter: @fulano\n",
    "\n",
    "#leitura do arquivo no formato JSON\n",
    "with open('auth.pass') as fp:    \n",
    "    data = json.load(fp)\n",
    "\n",
    "#Configurando a biblioteca. Não modificar\n",
    "auth = tweepy.OAuthHandler(data['consumer_key'], data['consumer_secret'])\n",
    "auth.set_access_token(data['access_token'], data['access_token_secret'])"
   ]
  },
  {
   "cell_type": "markdown",
   "metadata": {},
   "source": [
    "___\n",
    "## Coletando Dados\n",
    "\n",
    "Agora vamos coletar os dados. Tenha em mente que dependendo do produto escolhido, não haverá uma quantidade significativa de mensagens, ou ainda poder haver muitos retweets.<br /><br /> \n",
    "Configurando:"
   ]
  },
  {
   "cell_type": "code",
   "execution_count": 4,
   "metadata": {
    "collapsed": true
   },
   "outputs": [],
   "source": [
    "#Produto escolhido:\n",
    "produto = 'Big Mac'\n",
    "\n",
    "#Quantidade mínima de mensagens capturadas:\n",
    "n = 500\n",
    "#Quantidade mínima de mensagens para a base de treinamento:\n",
    "t = 300\n",
    "\n",
    "#Filtro de língua, escolha uma na tabela ISO 639-1.\n",
    "lang = 'pt'"
   ]
  },
  {
   "cell_type": "markdown",
   "metadata": {},
   "source": [
    "Capturando os dados do twitter:"
   ]
  },
  {
   "cell_type": "code",
   "execution_count": 5,
   "metadata": {
    "collapsed": true
   },
   "outputs": [],
   "source": [
    "#Cria um objeto para a captura\n",
    "api = tweepy.API(auth)\n",
    "\n",
    "#Inicia a captura, para mais detalhes: ver a documentação do tweepy\n",
    "i = 1\n",
    "msgs = []\n",
    "for msg in tweepy.Cursor(api.search, q=produto, lang=lang).items():    \n",
    "    msgs.append(msg.text.lower())\n",
    "    i += 1\n",
    "    if i > n:\n",
    "        break\n",
    "\n",
    "#Embaralhando as mensagens para reduzir um possível viés\n",
    "shuffle(msgs)"
   ]
  },
  {
   "cell_type": "markdown",
   "metadata": {},
   "source": [
    "Salvando os dados em uma planilha Excel:"
   ]
  },
  {
   "cell_type": "code",
   "execution_count": 6,
   "metadata": {
    "collapsed": true
   },
   "outputs": [],
   "source": [
    "#Verifica se o arquivo não existe para não substituir um conjunto pronto\n",
    "if not os.path.isfile('./{0}.xlsx'.format(produto)):\n",
    "    \n",
    "    #Abre o arquivo para escrita\n",
    "    writer = pd.ExcelWriter('{0}.xlsx'.format(produto))\n",
    "\n",
    "    #divide o conjunto de mensagens em duas planilhas\n",
    "    dft = pd.DataFrame({'Treinamento' : pd.Series(msgs[:t])})\n",
    "    dft.to_excel(excel_writer = writer, sheet_name = 'Treinamento', index = False)\n",
    "\n",
    "    dfc = pd.DataFrame({'Teste' : pd.Series(msgs[t:])})\n",
    "    dfc.to_excel(excel_writer = writer, sheet_name = 'Teste', index = False)\n",
    "\n",
    "    #fecha o arquivo\n",
    "    writer.save()"
   ]
  },
  {
   "cell_type": "markdown",
   "metadata": {},
   "source": [
    "___\n",
    "## Classificando as Mensagens\n",
    "\n",
    "Agora você deve abrir o arquivo Excel com as mensagens capturadas e classificar na Coluna B se a mensagem é relevante ou não.<br /> \n",
    "Não se esqueça de colocar um nome para a coluna na célula **B1**.<br /><br />\n",
    "Fazer o mesmo na planilha de Controle.\n",
    "\n",
    "___\n",
    "## Montando o Classificador Naive-Bayes\n",
    "\n",
    "Com a base de treinamento montada, comece a desenvolver o classificador. Escreva o seu código abaixo:\n",
    "\n",
    "Opcionalmente: \n",
    "* Limpar as mensagens removendo os caracteres: enter, :, \", ', (, ), etc. Não remover emojis.<br />\n",
    "* Corrigir separação de espaços entre palavras e/ou emojis.\n",
    "* Propor outras limpezas/transformações que não afetem a qualidade da informação.\n",
    "\n"
   ]
  },
  {
   "cell_type": "code",
   "execution_count": 21,
   "metadata": {
    "scrolled": false
   },
   "outputs": [
    {
     "name": "stdout",
     "output_type": "stream",
     "text": [
      "[['aquele', 3], ['única', 1], ['cama', 1], ['vir', 1], ['q', 10], ['chegando', 1], ['cm', 1], ['kaathieli', 2], ['themasternm6', 2], ['pegar', 2], ['a…', 1], ['chuvisco', 1], ['obg', 1], ['difícil', 1], ['pagam', 1], ['busao', 1], ['elisa', 1], ['pq', 1], ['convidam', 1], ['fui', 1], ['tão', 1], ['😋😋', 1], ['monique10out', 1], ['to', 5], ['mds', 1], ['celular', 1], ['de7sin', 1], ['aí', 3], ['alguém', 3], ['milk', 3], ['era', 3], ['jadebarbz', 1], ['amém', 1], ['alto', 1], ['kkkkkkk', 1], ['comeria', 1], ['trazendo', 1], ['alguma', 1], ['casa', 3], ['pensando', 2], ['cada', 1], ['do', 3], ['desejo', 1], ['tenho', 2], ['vida', 1], ['essa', 3], ['mensagem', 2], ['kkkkk', 2], ['nossa', 1], ['ehhhjkkkkkkk', 1], ['come', 1], ['doida', 1], ['amigo', 2], ['que', 19], ['mc', 3], ['até', 1], ['apeteceme', 1], ['enorme', 1], ['fome', 4], ['vou', 4], ['esses', 1], ['freshfrontal', 1], ['gaffor3lli', 1], ['gabi7mas', 1], ['deu', 2], ['uma', 15], ['busco', 1], ['umas', 1], ['karentavaresss', 1], ['pessoa', 1], ['como', 4], ['montiiii', 1], ['renans88', 1], ['😌', 1], ['chácara', 2], ['leggonce', 1], ['ovo', 2], ['almocar', 1], ['trouxesse', 1], ['19', 1], ['madrugada', 1], ['um', 94], ['amanhã', 2], ['papai', 1], ['tomar', 2], ['pro', 1], ['a', 19], ['temers', 1], ['conta', 2], ['chuva', 1], ['amassei', 1], ['agora', 9], ['poderia', 2], ['mac2', 1], ['culpa', 1], ['bonita', 2], ['na', 4], ['tá', 2], ['bferreirag', 1], ['sonhoooooo', 1], ['oi', 2], ['ia', 1], ['é', 14], ['batata', 6], ['alguem', 1], ['baratas', 1], ['50kg', 1], ['curva', 2], ['rxxbecca', 1], ['maior', 1], ['blz', 1], ['estão', 1], ['opssmarcal', 1], ['boa', 1], ['juizo', 1], ['resolver', 1], ['leq', 1], ['😒😔', 1], ['mcjujuu', 1], ['mundo', 1], ['gabizemog', 1], ['ne', 1], ['szubisk', 3], ['pão', 2], ['daqueles', 1], ['seeutivessedinheiro', 1], ['kkkkkk', 1], ['gabyrfontes', 3], ['daaaycorreia', 1], ['irmão', 1], ['gosto', 3], ['deus', 2], ['querido', 1], ['lá', 1], ['goluanxz', 1], ['pra', 14], ['saber', 2], ['sendo', 1], ['compra', 1], ['muito', 4], ['suco', 1], ['compram', 1], ['magra', 1], ['vale', 2], ['em', 7], ['😣🍔🍟', 1], ['😍😍😍', 1], ['😍', 1], ['academia', 1], ['quaa', 3], ['tô', 5], ['kero', 1], ['tudo', 3], ['já', 9], ['euvc', 2], ['ela', 2], ['toda', 1], ['começar', 1], ['cheia', 1], ['refrigerante', 1], ['nesse', 2], ['cansativo', 1], ['deixa', 1], ['manhã', 1], ['3', 2], ['brizzyjoanna', 1], ['da', 9], ['carolinacrvg06', 1], ['🖤', 1], ['firma', 1], ['msm', 2], ['lidar', 1], ['adicional', 1], ['fanta', 1], ['cheadeerum', 1], ['dai', 1], ['dieta', 1], ['tempo', 1], ['paga', 1], ['vim', 1], ['n', 1], ['coisa', 1], ['cheddar', 2], ['mec', 2], ['babimeres', 1], ['passa', 1], ['linda', 2], ['fritas', 1], ['migos', 1], ['gelado', 1], ['agarrar', 1], ['dadugarcia', 2], ['molho', 2], ['😣', 2], ['agr', 5], ['morango', 1], ['acabaram', 1], ['teu', 1], ['❤️️', 1], ['dnv', 1], ['gran', 1], ['quando', 1], ['os', 1], ['bem', 1], ['eu', 38], ['conquistou', 1], ['❤', 3], ['olha', 1], ['mesmo', 1], ['conseguir', 1], ['trouxeme', 1], ['coisas', 1], ['botafoguense', 1], ['sou', 2], ['indo', 1], ['feliz', 3], ['chegar', 1], ['hj', 5], ['logo', 1], ['forma', 2], ['sonho', 4], ['comi', 1], ['outro', 1], ['para', 1], ['não', 5], ['salvei', 2], ['garoto', 1], ['calma', 2], ['trazer', 1], ['caô', 1], ['aguiarkeviin', 1], ['leva', 2], ['fodeume', 1], ['após', 1], ['pizza', 2], ['victorcovelli', 1], ['esquema', 1], ['kaaaysouza', 2], ['pedir', 1], ['adianta', 1], ['resto', 1], ['shake', 3], ['carinhos', 1], ['eiaaa', 4], ['😂', 1], ['comer', 36], ['sejam', 2], ['😋', 1], ['acontece', 1], ['reais', 1], ['lasanha', 1], ['bateu', 4], ['açaí', 1], ['sammmysfreitas', 1], ['família', 1], ['carnes', 1], ['donalds', 1], ['traz', 1], ['agarrando😂😂😂', 1], ['romantismo', 2], ['ter', 4], ['duas', 1], ['gama', 1], ['chegou', 2], ['depois', 3], ['arrependimento', 1], ['pensar', 2], ['sim', 1], ['skyfireopenbar', 1], ['e', 27], ['batatas', 1], ['mina', 2], ['diegogveiga', 1], ['também', 2], ['💙', 1], ['limpar', 1], ['desse', 1], ['gente', 3], ['iria', 1], ['senhor', 2], ['vamos', 3], ['vocês', 2], ['preciso', 1], ['corpo', 2], ['joaoahurcz', 1], ['sdds', 1], ['quer', 2], ['baile', 1], ['d', 2], ['meu', 11], ['gd', 4], ['sobre', 1], ['quentinha', 2], ['coca', 3], ['deixar', 1], ['fácil', 2], ['mãe', 4], ['pago', 4], ['😂❤️❤️', 1], ['aql', 1], ['hoje', 9], ['crfbrendinhaa', 1], ['embora', 1], ['estamos', 1], ['pancinha', 2], ['né', 1], ['acompanhado', 1], ['po', 2], ['felicidade', 2], ['almeidabr', 1], ['viajar', 1], ['filho', 1], ['coxinha', 1], ['momento', 1], ['tem', 4], ['agorinha', 1], ['fazer', 1], ['mulher', 3], ['almoço', 1], ['pagar', 3], ['8', 2], ['três', 2], ['💔', 1], ['httpstcoawaiddwsva', 1], ['isso', 1], ['seria', 1], ['🍟🍔', 1], ['estou', 1], ['😍💁🏻', 1], ['malpelli', 4], ['entrar', 1], ['passar', 1], ['absurda', 1], ['aliança', 1], ['ou', 3], ['só', 36], ['de', 48], ['jonathas', 1], ['tristes', 1], ['acordo', 2], ['bacon', 1], ['fala', 1], ['acho', 3], ['por', 2], ['ta', 2], ['big', 134], ['fklizz', 1], ['melhora', 1], ['sbiguideg', 1], ['aposta', 1], ['você', 3], ['parece', 1], ['rodoviária', 1], ['ótimo', 1], ['iaelet', 1], ['torre', 1], ['ensaio', 1], ['quero', 8], ['neymar', 1], ['esse', 2], ['famosinha', 1], ['mary', 2], ['assim', 2], ['victoriagrado', 1], ['nas', 1], ['aaahhh', 1], ['melhor', 4], ['vontade', 17], ['acha', 2], ['nego', 1], ['comprar', 1], ['tava', 1], ['te', 3], ['me', 10], ['mac', 132], ['velho', 1], ['teoria', 1], ['frio', 1], ['com', 14], ['nicolyrossoni', 1], ['🌚😭', 1], ['princesa', 2], ['posso', 1], ['o', 10], ['🤤', 1], ['sttswpp', 1], ['😂😂😂', 1], ['mano', 1], ['laranja', 2], ['vc', 1], ['salada', 1], ['comido', 1], ['tu', 1], ['🖐🏼', 2], ['uns', 5], ['perdeu', 1], ['😂👌🏼', 1], ['samuelmaciel', 1], ['vem', 1], ['negacrf', 1], ['num', 1], ['laris', 1], ['pollydood', 1], ['minha', 4], ['httpstco2cv0vtyfhj', 1], ['sobremesa', 1], ['tanta', 1], ['dormir', 1], ['httpstcocpzl6isx0s', 1], ['aaaaaa', 1], ['tira', 1], ['luxo', 1], ['porra', 1], ['grande', 1], ['estômago', 1], ['santosbianca7', 1], ['vdd', 1], ['no', 11], ['kkkk', 1], ['sete', 1], ['primeiro', 1], ['ingridsonsaa', 1], ['jane', 2], ['novo', 1], ['aniversário', 1], ['kkkkkkkkkkkkkkk', 1], ['mim', 4], ['ficar', 1], ['unica', 1], ['queria', 31], ['luanabreu2', 1], ['moa', 1], ['trouxe', 5], ['se', 5], ['amo', 2], ['dia', 4], ['mais', 3], ['dois', 3], ['dar', 1], ['cunhado', 1], ['nem', 4], ['eh', 2], ['quintanilhaa18', 1], ['mas', 4], ['mt', 1], ['querendo', 2], ['combo', 1], ['ntecuojasbs', 4], ['700ml', 1], ['parar', 1], ['jillsandwichs', 1], ['thiessita', 1], ['httpstcohxv7enb7f5', 1], ['p', 2], ['teeuscrf', 1], ['sentimento', 1]]\n",
      ".\n",
      "[['httpstcozh5tbj5ant', 4], ['ralha', 1], ['aquele', 2], ['pela', 1], ['fotos', 1], ['morrê', 1], ['roupa', 1], ['fã\\xadsicamente', 1], ['nuggets', 3], ['https…', 2], ['gostam', 1], ['política', 1], ['hahahaahhaahah', 1], ['pq', 2], ['bk', 2], ['chris', 1], ['fui', 1], ['momentosquecustampouco', 2], ['volta', 1], ['celular', 1], ['iluminar', 4], ['japonesa', 2], ['aí', 1], ['era', 4], ['👌', 1], ['mané', 1], ['falar', 1], ['cachet', 1], ['causa', 1], ['httpstcotn70qq24zz', 1], ['média', 3], ['vi', 1], ['casa', 3], ['cada', 2], ['do', 17], ['vida', 1], ['essa', 1], ['preferência', 1], ['sase', 1], ['kkkkk', 1], ['foto', 2], ['hamburgers', 3], ['doados', 2], ['barra', 1], ['que', 10], ['mc', 8], ['até', 1], ['mandar', 1], ['hambúrguer', 1], ['150', 1], ['vou', 3], ['ahah', 1], ['identifico', 1], ['cabo', 14], ['uma', 10], ['reto', 1], ['belos', 4], ['sonhoooo', 1], ['cara', 2], ['anibiondi', 1], ['como', 1], ['desses', 1], ['tirar', 1], ['viu', 1], ['melcastro', 1], ['monitora', 1], ['gelo', 1], ['um', 47], ['amanhã', 1], ['el', 1], ['menu', 10], ['euros', 1], ['a', 14], ['arroz', 1], ['mrm', 1], ['meio', 1], ['deixei', 1], ['ao', 1], ['minuto', 1], ['médias', 3], ['poderia', 1], ['reeleger', 1], ['organização', 1], ['na', 6], ['tiu', 1], ['as', 1], ['iphotoeditora', 3], ['ia', 1], ['letycia', 1], ['é', 14], ['httpstcobonu3hipw3', 1], ['comeu', 2], ['sem', 4], ['tive', 1], ['httpstcopjbhqqsdvb', 1], ['boa', 1], ['httpstcogifesfrjuf', 1], ['rã¡pida', 1], ['bota', 1], ['ne', 2], ['caixinha', 2], ['kkkkkk', 2], ['c', 2], ['amantes', 1], ['httpstcomwr3jlejmj', 1], ['consegui', 1], ['lá', 1], ['youtube', 1], ['soube', 1], ['seu', 1], ['casaco', 1], ['so', 1], ['httpstcotlbfzmrhb1', 1], ['belas', 1], ['tucca', 1], ['pra', 3], ['fores', 1], ['obrigado', 3], ['sendo', 1], ['instituições…', 2], ['alma', 1], ['cheguei', 1], ['em', 5], ['cinza…', 1], ['iphone', 2], ['emoção', 1], ['opções', 1], ['compailhar', 2], ['mccoloso', 1], ['comida', 2], ['gatorade', 1], ['chatissimos', 1], ['quaa', 1], ['entregaram', 2], ['picles', 1], ['itcecis', 1], ['foi', 1], ['tudo', 1], ['já', 1], ['seguidas', 1], ['ela', 1], ['toda', 2], ['dentro', 1], ['saco', 1], ['nesse', 1], ['caixas', 1], ['httpstcov2lss4bmsp', 1], ['sei', 2], ['olivehayssa', 1], ['manhã', 1], ['cristão', 1], ['3', 7], ['crianca', 1], ['chero', 1], ['tipos', 1], ['rafaellsilvaa29', 1], ['da', 7], ['rafaelbrunoen', 1], ['fudeu', 1], ['slc', 2], ['muio', 1], ['setembro', 1], ['trocar', 1], ['acabei', 1], ['httpstcogen8nbismj', 1], ['fzr', 1], ['diogogoverno', 3], ['recebeu', 1], ['fez', 1], ['voluntários', 2], ['babimeres', 1], ['passa', 1], ['dmais', 1], ['1', 2], ['jrribeiro02', 1], ['willtheoc', 1], ['então', 8], ['bariga', 1], ['6', 3], ['conseguiu', 1], ['festa', 1], ['quase', 1], ['teu', 1], ['boquinha', 1], ['video', 1], ['igreja', 1], ['os', 6], ['quando', 1], ['obs', 1], ['bem', 1], ['eu', 12], ['parir', 1], ['faz', 2], ['vindo', 1], ['dauanesena', 1], ['😂😂😂😂', 1], ['sai', 1], ['mesma', 1], ['httpst…', 3], ['enzohoff', 1], ['gostei', 1], ['ainda', 2], ['feliz', 1], ['la', 1], ['chegar', 1], ['vergonha', 1], ['shoppig', 1], ['fotógrafo', 4], ['comi', 6], ['2', 1], ['para', 10], ['há', 8], ['prédio', 1], ['não', 12], ['fotográficos', 1], ['real', 1], ['comeme', 1], ['sabe', 1], ['trazer', 1], ['aguiarkeviin', 1], ['fds', 2], ['5', 1], ['aquela', 1], ['hauahau', 1], ['abri', 1], ['pizza', 1], ['narcos', 1], ['eles', 1], ['tbm', 1], ['michael', 1], ['pelo', 1], ['adianta', 1], ['resto', 1], ['vai', 1], ['site', 1], ['viral', 1], ['comer', 4], ['demais', 1], ['base', 1], ['café', 1], ['podia', 1], ['reais', 2], ['barriga', 1], ['tasty', 1], ['donalds', 2], ['clássicos', 2], ['cento', 1], ['ter', 1], ['gama', 1], ['samaravidala', 1], ['pic', 1], ['euro', 3], ['depois', 5], ['httpstcoct7idi17lw', 1], ['rafa', 1], ['podias', 1], ['batatas', 3], ['e', 22], ['fla', 2], ['pensei', 1], ['pega', 1], ['também', 2], ['normédio', 7], ['🤔😍❤️😊', 1], ['gente', 3], ['williangordox', 1], ['senhor', 7], ['vamos', 1], ['respirar', 1], ['vocês', 2], ['truques', 1], ['mcdonalds', 1], ['semana', 1], ['cheila', 1], ['médio', 7], ['httpstcoqmlhw9gsp3', 1], ['diversas', 2], ['ué', 1], ['meu', 3], ['esconder', 1], ['10', 2], ['mostra', 1], ['geladeira', 1], ['coca', 4], ['conhece', 1], ['muita', 2], ['entra', 1], ['podem', 1], ['mãe', 1], ['peças', 1], ['ahahah', 1], ['tanto', 1], ['hoje', 3], ['foda', 1], ['crfbrendinhaa', 1], ['incríveis', 2], ['kchrystima', 1], ['mcdonaldsbr', 2], ['los', 1], ['faleicria', 1], ['cuidado', 1], ['po', 1], ['usa', 6], ['poupança', 3], ['tinha', 4], ['venha', 2], ['tem', 2], ['fazer', 3], ['exemplo', 1], ['cola', 4], ['marci', 1], ['será', 1], ['possível', 1], ['masculina', 1], ['isso', 3], ['achoq', 1], ['entrar', 2], ['comigo', 1], ['ser', 3], ['todas', 1], ['imposible', 1], ['ouvido', 1], ['aliança', 1], ['retratos', 6], ['tb', 1], ['abuso', 1], ['vinhas', 1], ['vendo', 1], ['ontem', 2], ['só', 14], ['de', 30], ['oq', 1], ['foram', 2], ['sua', 2], ['rodrigo', 1], ['por', 5], ['big', 65], ['terminar', 1], ['cigarros', 1], ['lembrar', 1], ['consegue', 1], ['improviso', 1], ['você', 1], ['mesqmariaa', 7], ['vacilão', 1], ['quero', 9], ['moça', 1], ['shopping', 1], ['kkk', 1], ['pelé', 1], ['assim', 1], ['vídeo', 1], ['vezes', 1], ['vo', 1], ['amigos', 3], ['vê', 2], ['httpstcolarac16uwx', 1], ['comprar', 4], ['te', 2], ['morreu', 1], ['nois', 1], ['está', 1], ['óbvio', 1], ['me', 4], ['mac', 65], ['camisa', 1], ['xfeeland', 1], ['httpstcookqrgemfkv', 1], ['sanduíches', 2], ['caixa', 4], ['com', 14], ['o', 17], ['comemos', 1], ['pequeno', 7], ['maia', 1], ['😂😂😂', 1], ['tomamos', 1], ['pai', 1], ['vc', 2], ['noite', 1], ['mfaldoni', 1], ['seus', 2], ['comido', 1], ['tu', 4], ['tipo', 2], ['alcantarah', 1], ['httpstcoakhfjrgxkx', 1], ['httpstcompiwezcs4l', 1], ['dinheiro', 1], ['câmera', 1], ['ir', 1], ['minha', 2], ['sobremesa', 1], ['httpstcol2huxrr3co', 1], ['bue', 1], ['enchi', 1], ['menos', 1], ['no', 9], ['criar', 1], ['nunca', 1], ['rodrigueslidi', 1], ['queria', 2], ['trouxe', 1], ['se', 4], ['😘', 1], ['dia', 7], ['mais', 4], ['picanha', 1], ['httpstcoejrzfjlkqc', 4], ['naannogueira', 1], ['dois', 2], ['nem', 2], ['mas', 3], ['normal', 7], ['combo', 1], ['numa', 1], ['beber', 1], ['cadê', 1], ['af', 1], ['p', 4], ['este', 2], ['👏👏', 1], ['sabor', 1], ['amiguinho', 1], ['quaafeira', 2]]\n",
      "134\n",
      "66\n",
      "% sim 0.67\n",
      "% nao 0.33\n",
      "Total de palavras 881\n",
      "Total de palavras relevantes 456\n",
      "Total de palavras não relevantes 425\n",
      "['não', 'sim', 'sim', 'sim', 'sim', 'sim', 'não', 'sim', 'não', 'não', 'sim', 'não', 'sim', 'sim', 'sim', 'sim', 'não', 'sim', 'sim', 'sim', 'não', 'sim', 'não', 'não', 'não', 'sim', 'sim', 'sim', 'sim', 'sim', 'sim', 'não', 'não', 'não', 'não', 'sim', 'não', 'não', 'não', 'sim', 'sim', 'não', 'sim', 'não', 'não', 'não', 'sim', 'sim', 'sim', 'sim', 'sim', 'sim', 'não', 'sim', 'sim', 'não', 'sim', 'não', 'sim', 'não', 'sim', 'sim', 'sim', 'sim', 'não', 'sim', 'sim', 'sim', 'não', 'não', 'sim', 'sim', 'não', 'sim', 'sim', 'sim', 'sim', 'sim', 'não', 'não', 'sim', 'sim', 'sim', 'sim', 'sim', 'sim', 'não', 'sim', 'sim', 'sim', 'sim', 'sim', 'sim', 'não', 'não', 'sim', 'sim', 'sim', 'não', 'sim', 'não', 'sim', 'sim', 'não', 'sim', 'não', 'sim', 'sim', 'não', 'não', 'sim', 'não', 'não', 'sim', 'sim', 'não', 'sim', 'não', 'sim', 'não', 'não', 'sim', 'não', 'sim', 'não', 'sim', 'sim', 'não', 'não', 'sim', 'sim', 'não', 'sim', 'sim', 'não', 'sim', 'não', 'sim', 'não', 'sim', 'sim', 'sim', 'não', 'sim', 'não', 'sim', 'não', 'sim', 'não', 'sim', 'não', 'sim', 'não', 'sim', 'sim', 'sim', 'sim', 'não', 'sim', 'sim', 'sim', 'sim', 'sim', 'sim', 'sim', 'sim', 'sim', 'sim', 'sim', 'sim', 'sim', 'sim', 'sim', 'sim', 'sim', 'sim', 'sim', 'sim', 'sim', 'sim', 'não', 'sim', 'sim', 'sim', 'sim', 'sim', 'não', 'sim', 'sim', 'sim', 'sim', 'sim', 'sim', 'não', 'não', 'sim', 'sim', 'sim', 'não', 'sim']\n"
     ]
    },
    {
     "name": "stdout",
     "output_type": "stream",
     "text": [
      "[3.2165535153207263e-14, 1.5889733288643924e-28, 5.800933778256663e-18, 6.467105528275819e-17, 9.435290740341618e-19, 1.5619134715970854e-18, 4.91500020148962e-15, 8.111154618229729e-12, 1.5889733288643924e-28, 9.595686657203376e-11, 1.1465928168329546e-07, 1.5889733288643924e-28, 6.427451497243072e-08, 1.2427586659866863e-07, 3.2165535153207263e-14, 1.5562442743242927e-12, 3.2165535153207263e-14, 3.756745296864296e-12, 7.589704710132978e-07, 3.921542713954485e-18, 2.2471062218056655e-16, 4.853211627528037e-13, 4.006395404886821e-30, 3.4440942954290224e-28, 2.2635961416186072e-07, 1.8574803632693868e-06, 9.664354438741806e-13, 5.037417223962017e-21, 6.385137268942348e-25, 1.7975616418735998e-07, 1.5889733288643924e-28, 8.433005233481087e-07, 2.106428657781266e-15, 6.467105528275819e-17, 1.5562442743242927e-12, 2.9478710751332026e-10, 6.352899196606266e-15, 2.110318646068951e-17, 8.89411265640599e-12, 1.218139074158088e-19, 1.719889225249432e-08, 1.2559795028588853e-08, 1.629368739709988e-08, 7.323399281707259e-08, 6.403898221157895e-19, 2.1327688444313865e-16, 0.0013843621391282554, 4.370133461654787e-18, 4.964026626356595e-10, 3.4429262688017685e-12, 2.6016241668035284e-14, 9.411233840564893e-05, 3.2033429134034667e-14, 4.015021536023717e-11, 2.0638670702993182e-07, 2.5969500998961914e-10, 4.278987116453171e-18, 2.703718206076576e-12, 1.719889225249432e-08, 2.4139998239178116e-21, 4.541519943017764e-14, 5.38276929796665e-08, 1.2559795028588853e-08, 3.588512865311101e-08, 1.5798214933359494e-15, 4.802079658404537e-09, 1.4305787820505962e-14, 7.589704710132978e-07, 0.0011920896198048866, 8.433005233481087e-07, 2.2469520523420002e-07, 1.7960075924240274e-15, 1.1047276862018133e-24, 5.410312708117064e-11, 3.2165535153207263e-14, 5.519208264084089e-15, 2.360355383386305e-20, 1.5562442743242927e-12, 2.956515858344737e-09, 2.9589492047302056e-09, 2.13451437321835e-14, 2.0972991403519545e-13, 1.3634165824066902e-15, 2.9510796589729445e-12, 9.112055256400288e-21, 1.5619134715970854e-18, 0.00018654525279033227, 6.299993186340168e-05, 9.573018051724068e-20, 1.7975616418735998e-07, 6.421549337925127e-09, 5.876046593834005e-28, 1.022005481896946e-09, 7.323399281707259e-08, 4.152192170218433e-12, 1.0321500423128206e-13, 3.33947007245851e-05, 5.475405023892946e-21, 7.323399281707259e-08, 6.459323157559981e-07, 4.7654655613023305e-08, 0.0011920896198048866, 4.111359331687812e-17, 5.917898409460412e-09, 3.856576473079223e-21, 3.7005017335636843e-10, 1.0980849367851967e-06, 1.1835796818920822e-08, 9.411233840564893e-05, 1.2489179843298855e-15, 1.2166731927344594e-12, 3.6706794464440895e-29, 1.7414010733479134e-24, 4.781842040002456e-11, 1.4143559790339213e-13, 2.871959443132328e-14, 1.7960075924240274e-15, 2.993551368945699e-23, 1.400249401083848e-27, 6.385137268942348e-25, 6.236137473694537e-16, 9.504650981641597e-08, 6.212799282048305e-13, 1.0143212301533599e-10, 0.0013843621391282554, 1.3492808373569738e-06, 8.457404546226365e-24, 7.323399281707259e-08, 7.2482658290563546e-12, 5.657530346215235e-10, 1.6027780798900198e-13, 8.599446126247161e-08, 2.2635961416186072e-07, 1.7975616418735998e-07, 2.8664820420823873e-08, 2.791529060505627e-29, 1.2143527536212766e-05, 1.0354665470080506e-12, 1.6616024189778208e-17, 2.7388552287936085e-18, 2.2952841792011787e-12, 1.577929940069322e-30, 1.2638571946687597e-14, 6.863117824336545e-17, 7.774858169727714e-18, 1.0551823288590808e-30, 2.678052750644348e-26, 7.751187789071978e-06, 6.4889236945837844e-12, 4.1418661880322016e-13, 2.633457107958139e-12, 4.553822826079786e-06, 2.2635961416186072e-07, 7.323399281707259e-08, 1.1558395330977365e-10, 3.4090872220455455e-08, 1.180620732687352e-06, 6.102832734756049e-09, 1.4901862313027045e-13, 8.263023045124243e-10, 7.589704710132978e-07, 2.170859147998864e-15, 5.813390841803983e-07, 2.1785263519826141e-07, 9.358401776071662e-19, 0.00184581618550434, 0.002051997780693655, 2.7322936956478726e-05, 1.400249401083848e-27, 6.80963392948145e-27, 3.7679385085766556e-07, 6.163410252667984e-12, 1.2649507850221629e-06, 2.0709330940161012e-12, 0.0013843621391282554, 4.516327662055328e-51, 7.397373011825514e-09, 2.258163831027664e-51, 8.162411048902404e-15, 5.5227212997137836e-05, 2.1288374732895766e-15, 1.8574803632693868e-06, 3.504018795075243e-09, 1.719889225249432e-08, 1.9686128004956447e-30, 1.0619473249485876e-19, 1.5562442743242927e-12, 1.4550987438620586e-16, 1.508749889948632e-21, 1.8057991597427246e-11, 1.8574803632693868e-06, 1.6809300689094502e-12, 1.400249401083848e-27, 2.0866219810919803e-13, 8.433005233481087e-07, 1.5889733288643924e-28, 1.400249401083848e-27, 1.5562442743242927e-12, 3.052425184492589e-16, 2.0440109637938915e-10, 9.699106435384062e-23, 1.5562442743242927e-12, 1.4143559790339213e-13, 1.2777280656789523e-08, 0.0013843621391282554, 4.781842040002456e-11, 3.535740739325604e-21, 0.00184581618550434, 2.003518214075802e-24, 7.171218612718807e-22, 1.6177372091760128e-13, 3.095954774174593e-17, 1.5411193774636486e-10, 2.860285871410849e-23, 6.385137268942348e-25, 1.1597225326490165e-11, 2.0332530113528714e-09, 1.2813898519224626e-11, 2.5086403777894237e-49, 1.5562442743242927e-12, 2.9116225946377098e-21, 2.110318646068951e-17, 2.0709330940161012e-12, 7.177025730622201e-09, 2.7322936956478726e-05, 6.3427375457337646e-12, 5.191138955667028e-11, 0.00030763603091739003, 7.323399281707259e-08, 1.400249401083848e-27, 8.433005233481087e-07, 4.049995619790108e-05, 2.7322936956478726e-05, 7.280624158650356e-14, 3.5689080320210805e-11, 4.216502616740543e-07, 1.6809300689094502e-12, 9.664354438741806e-12, 2.0638670702993182e-07, 0.0011920896198048866, 1.5889733288643924e-28, 1.400249401083848e-27, 1.870969605591062e-25, 7.436720740611819e-09, 1.0319335351496593e-06, 1.8199543603230136e-13, 0.0026116335390646513, 8.271243196221106e-14, 6.17078275297022e-13, 1.0278455132220714e-08, 5.632746262659534e-14, 2.058152983282283e-29, 3.2033429134034667e-14, 1.5562442743242927e-12, 1.7942564326555502e-09, 5.413951440702611e-21, 1.8493432529563784e-09, 0.0005596357583709968, 8.162411048902404e-15, 2.9490001208937727e-14, 9.17902824383394e-13, 6.635705534496299e-21, 2.496784690895183e-18, 1.5562442743242927e-12, 8.893809888409788e-15, 3.2165535153207263e-14, 3.7639238524356603e-16, 3.6986865059127572e-09, 4.090904666454655e-06, 1.1794113425427018e-18, 1.986379075716996e-10, 4.212857315562532e-14, 2.860285871410849e-23, 2.50978733693087e-15, 5.17816110827786e-08, 1.5411193774636486e-10, 1.5562442743242927e-12, 1.5879053752462942e-19, 1.2241354549832306e-08, 2.1438193397397577e-24, 7.732810467381227e-15, 8.433005233481087e-07, 2.0638670702993182e-07, 1.1913663903255827e-07, 2.8672217793835693e-06, 4.541519943017764e-14, 1.74290787286866e-17, 8.433005233481087e-07, 7.589704710132978e-07, 4.090904666454655e-06, 2.3528084601412233e-05, 5.809294318151061e-10, 1.2474270511380658e-12, 1.629368739709988e-08, 4.802657339741287e-13, 0.0013843621391282554, 1.4055008722468477e-08, 6.276817001317076e-09, 0.00037309050558066454, 4.9452106046193435e-15]\n",
      ".\n",
      "[1.7185460225924161e-06, 2.0586627630673084e-41, 5.552576245046622e-19, 1.332021830659866e-11, 3.226306675705412e-09, 2.1841290003384172e-26, 1.7185460225924164e-07, 3.6519102980088846e-05, 2.0586627630673084e-41, 4.901306861251572e-12, 4.04363770021745e-10, 2.0586627630673084e-41, 5.110469774317373e-11, 6.014911079073458e-06, 1.7185460225924161e-06, 3.352253635745164e-30, 1.7185460225924161e-06, 1.2889095169443122e-06, 6.086517163348141e-06, 1.2552366511408586e-17, 2.83408900140397e-13, 4.98668676940311e-11, 5.907076160006176e-24, 2.8531403888907385e-18, 5.66109278030443e-08, 4.009940719382305e-07, 1.889392667602646e-13, 4.4117511183425173e-13, 1.9537389287757132e-14, 8.521124028687398e-05, 2.0586627630673084e-41, 8.0872754004349e-10, 6.342961098380312e-13, 1.332021830659866e-11, 2.0352968502738504e-28, 2.955073641127769e-13, 2.6498732163127125e-09, 1.8583778620140417e-13, 1.2146095720302727e-12, 1.5893048684783963e-21, 1.1322185560608859e-08, 1.8130051124866803e-06, 3.774061853536287e-09, 1.8259551490044423e-05, 4.461891625483892e-17, 7.557570670410584e-13, 8.521124028687398e-05, 3.458849674716567e-24, 4.04363770021745e-08, 7.756403954780145e-26, 1.0039256157338755e-16, 1.1456973483949441e-07, 4.338287337317684e-42, 3.358038228554283e-15, 4.009940719382305e-07, 4.301742234273883e-12, 2.5386769007870386e-12, 3.805776659028188e-12, 1.1322185560608859e-08, 1.7720988016106234e-19, 2.040544081010859e-12, 7.770021910657202e-07, 1.8130051124866803e-06, 2.4376539327551997e-09, 2.776288122523311e-18, 4.28685731304802e-15, 2.208227680260593e-10, 2.5778190338886244e-07, 2.8642433709873602e-08, 0.00258676979442296, 3.1506677080860964e-07, 9.661427771905137e-22, 5.827770085608861e-29, 4.0810881620217167e-13, 1.7185460225924161e-06, 6.348359363144895e-13, 5.126428676087877e-19, 3.352253635745164e-30, 2.965334313492797e-10, 3.42519899312537e-10, 1.679019114277142e-11, 7.406419257002374e-15, 7.030371276931425e-14, 4.048698573434242e-15, 1.5587489507721834e-11, 5.139127059619804e-29, 0.023391003460207616, 5.439015337460041e-06, 1.0261160900846157e-16, 8.521124028687398e-05, 4.3017422342738825e-11, 1.213091310065235e-09, 2.602770114865604e-19, 1.8259551490044423e-05, 3.996065491979598e-10, 6.435493707344921e-14, 1.8044733237220373e-06, 2.89077078143205e-09, 1.8259551490044423e-05, 1.429592310543024e-18, 8.087275400434898e-09, 1.2173034326696283e-05, 3.5928434526772244e-18, 5.477865447013327e-05, 1.4454050037886986e-14, 9.82649757076542e-14, 3.656480899132801e-07, 5.477865447013327e-05, 9.435154633840717e-10, 9.32402629278864e-06, 1.7125994965626844e-11, 1.0604195904661455e-34, 6.801813603369527e-15, 8.993509097788597e-14, 7.571169067464613e-14, 3.0088022527846387e-14, 9.661427771905137e-22, 1.0475335473142454e-28, 1.9537389287757132e-14, 1.9537389287757132e-14, 1.0378670097224791e-07, 3.108050938206354e-10, 4.0878865089057044e-26, 2.6102066009080773e-16, 8.521124028687398e-05, 5.477865447013327e-05, 1.4454050037886986e-14, 1.8259551490044423e-05, 1.4625923596531202e-10, 1.1322185560608859e-08, 8.50226700421191e-15, 1.1322185560608859e-08, 4.04363770021745e-08, 8.521124028687398e-05, 1.2173034326696283e-05, 4.755233981484565e-21, 9.514441647570468e-14, 1.0969442697398402e-07, 3.7763283441473017e-38, 9.32402629278864e-06, 3.922614534815183e-18, 2.1622583696963234e-20, 5.708664988542282e-14, 3.489389515378682e-24, 1.26806239506255e-22, 7.023347929002421e-17, 2.2358937871790605e-09, 1.2044878255966873e-09, 9.990163729948997e-09, 3.5847851952282347e-12, 3.240730759770122e-11, 7.413335783731991e-09, 4.04363770021745e-08, 1.8259551490044423e-05, 8.0872754004349e-10, 6.216017528525761e-06, 8.521124028687398e-05, 1.0311276135554498e-06, 7.041877612900217e-15, 1.6059837674622494e-14, 6.086517163348141e-06, 9.003695884370915e-17, 2.8340890014039698e-12, 3.437092045184833e-07, 2.2214415417764805e-23, 0.00018259551490044424, 3.885010955328601e-07, 8.521124028687398e-05, 1.9537389287757132e-14, 2.258482328009513e-25, 5.8016163599573774e-09, 1.7551346474577057e-14, 8.019881438764611e-08, 3.429485850438417e-17, 8.521124028687398e-05, 5.3707780894539395e-37, 1.4271662471355706e-11, 1.1412903440089623e-34, 5.3728611656868534e-14, 0.0012108284144107472, 5.4700954251026704e-08, 4.009940719382305e-07, 2.2834659954169127e-10, 1.1322185560608859e-08, 1.0336899885889698e-23, 7.666025578317493e-15, 3.352253635745164e-30, 6.814052160718153e-16, 4.0935482317205424e-21, 9.423360690548417e-06, 4.009940719382305e-07, 1.5871113767091595e-16, 1.9537389287757132e-14, 1.2657049266228922e-09, 0.00258676979442296, 2.0586627630673084e-41, 1.9537389287757132e-14, 3.352253635745164e-30, 1.2979146972796478e-14, 3.032728275163087e-10, 8.309855695303517e-21, 3.352253635745164e-30, 7.571169067464613e-14, 0.00015918583350295137, 8.521124028687398e-05, 8.993509097788597e-14, 1.8405302955121055e-15, 0.00018259551490044424, 1.4551213432504633e-23, 2.35356872088911e-17, 3.3185318964536454e-14, 1.4761583017416501e-16, 1.2685922196760625e-11, 9.61596222944912e-24, 1.9537389287757132e-14, 1.8282404495664e-09, 6.581754927966399e-13, 4.0221289890460806e-08, 1.6024515114910364e-26, 3.352253635745164e-30, 3.3301091469119854e-23, 1.8583778620140417e-13, 3.429485850438417e-17, 5.5037655200488504e-05, 8.521124028687398e-05, 6.335032397007338e-09, 5.477865447013327e-05, 5.477865447013327e-05, 1.8259551490044423e-05, 1.9537389287757132e-14, 0.00258676979442296, 9.141202247832e-10, 8.521124028687398e-05, 1.059949286525085e-10, 1.2889095169443122e-07, 3.6519102980088846e-05, 1.5871113767091595e-16, 1.133635600561588e-12, 4.009940719382305e-07, 1.2173034326696283e-05, 2.0586627630673084e-41, 1.9537389287757132e-14, 8.449241780806255e-29, 3.753987056443008e-09, 4.009940719382305e-07, 3.128901502370579e-14, 0.0007705271728068392, 5.391516933623266e-10, 1.9306481122034764e-11, 2.729455447646779e-07, 3.4251989931253696e-10, 2.785086426626689e-24, 1.6651566943938897e-34, 3.352253635745164e-30, 0.00016511296560146554, 2.609710835171912e-16, 8.0872754004349e-10, 0.023391003460207616, 5.3728611656868534e-14, 1.332021830659866e-11, 1.2784921515972633e-12, 2.0014292347602343e-22, 2.89077078143205e-09, 3.352253635745164e-30, 2.9745944169892616e-18, 1.7185460225924161e-06, 7.558969341996242e-19, 1.0535021893503633e-17, 2.2015062080195403e-06, 3.533164288416949e-13, 2.3148076855500863e-12, 2.686430582843427e-13, 9.61596222944912e-24, 5.4390153374600414e-05, 4.296365056481041e-08, 1.2685922196760625e-11, 3.352253635745164e-30, 1.2167950286996698e-15, 2.997049118984699e-11, 2.3517178882774575e-30, 3.244786743199119e-13, 0.00258676979442296, 4.009940719382305e-07, 1.7185460225924161e-06, 4.2963650564810405e-06, 2.040544081010859e-12, 8.516835715052706e-28, 0.00258676979442296, 6.086517163348141e-06, 2.2015062080195403e-06, 1.2173034326696283e-05, 2.8543324942711415e-11, 4.877974945695652e-07, 3.774061853536287e-09, 8.01988143876461e-07, 8.521124028687398e-05, 4.04363770021745e-09, 2.035612047002418e-11, 0.023391003460207616, 2.8104715930589374e-09]\n",
      "Prob all sim 300\n",
      "Prob all nao 300\n"
     ]
    }
   ],
   "source": [
    "import string\n",
    "listaR = []\n",
    "palavrasSim = []\n",
    "palavrasNao = []\n",
    "#Limpa a planilha com palavras usáveis\n",
    "planilhaTREI = pd.read_excel('Big Mac TREINAMENTO.xlsx',sep=',')\n",
    "planilhaTEST = pd.read_excel('Big Mac TESTE.xlsx',sep=',')\n",
    "for i in range(len(planilhaTEST.Teste)):\n",
    "    linhaX = planilhaTEST.Teste[i].lower()\n",
    "    linhaX = linhaX.split()\n",
    "    for k in range(len(linhaX)):\n",
    "        for punctuation in string.punctuation:\n",
    "            linhaX[k] = linhaX[k].replace(punctuation, '')\n",
    "        linhaX[k] = linhaX[k].replace('—', '')\n",
    "        linhaX[k] = linhaX[k].replace('rt', '')\n",
    "        if planilhaTEST.Relevancia[i] == 'sim':\n",
    "            palavrasSim.append(linhaX[k])\n",
    "        elif planilhaTEST.Relevancia[i] == 'não':\n",
    "            palavrasNao.append(linhaX[k])\n",
    "    while '' in linhaX:\n",
    "        linhaX.remove('')\n",
    "    planilhaTEST.Teste[i] = linhaX\n",
    "\n",
    "#Remove '' da lista de palavras a serem contadas    \n",
    "while '' in palavrasSim:\n",
    "    palavrasSim.remove('')\n",
    "\n",
    "while '' in palavrasNao:\n",
    "    palavrasNao.remove('')\n",
    "    \n",
    "#Calcula quantas vezes aparece Sim ou Nao    \n",
    "for i in planilhaTEST.Relevancia:\n",
    "    if i == 'sim':\n",
    "        listaR.append(i)\n",
    "    if i == 'não':\n",
    "        listaR.append(i)\n",
    "numeroSim = 0\n",
    "numeroNao = 0\n",
    "for j in listaR:\n",
    "    if j == 'sim':\n",
    "        numeroSim += 1\n",
    "    if j == 'não':\n",
    "        numeroNao += 1\n",
    "        \n",
    "#Conta cada palavra da lista\n",
    "contandoSim = [[x,palavrasSim.count(x)] for x in set(palavrasSim)]\n",
    "contandoNao = [[y,palavrasNao.count(y)] for y in set(palavrasNao)]\n",
    "\n",
    "\n",
    "#Calcula quantas palavras existem no espaço amostral\n",
    "wordsNumber = 0\n",
    "numeroPalavrasSim = 0\n",
    "numeroPalavrasNao = 0\n",
    "for k in range(len(contandoSim)):\n",
    "    wordsNumber = wordsNumber + contandoSim[k][1]\n",
    "    numeroPalavrasSim = numeroPalavrasSim + contandoSim[k][1]\n",
    "for k in range(len(contandoNao)):\n",
    "    wordsNumber = wordsNumber + contandoNao[k][1]\n",
    "    numeroPalavrasNao = numeroPalavrasNao + contandoNao[k][1]\n",
    "\n",
    "\n",
    "#print(contandoSim)\n",
    "#print('.')\n",
    "#print(contandoNao)\n",
    "print(numeroSim)\n",
    "print(numeroNao)\n",
    "print('% sim',numeroSim/200)\n",
    "print('% nao',numeroNao/200)\n",
    "print('Total de palavras', len(contandoSim)+len(contandoNao))\n",
    "print('Total de palavras relevantes', len(contandoSim))\n",
    "print('Total de palavras não relevantes', len(contandoNao))\n",
    "\n",
    "print(listaR)\n",
    "#planilhaTEST\n",
    "\n",
    "#Limpando a nova planilha\n",
    "for i in range(len(planilhaTREI.Treinamento)):\n",
    "    linhaX = planilhaTREI.Treinamento[i].lower()\n",
    "    linhaX = linhaX.split()\n",
    "    for k in range(len(linhaX)):\n",
    "        for punctuation in string.punctuation:\n",
    "            linhaX[k] = linhaX[k].replace(punctuation, '')\n",
    "        linhaX[k] = linhaX[k].replace('—', '')\n",
    "        linhaX[k] = linhaX[k].replace('rt', '')\n",
    "    while '' in linhaX:\n",
    "        linhaX.remove('')\n",
    "    planilhaTREI.Treinamento[i] = linhaX\n",
    "    \n",
    "#Calcular a probabilidade de uma frase ser relevante na planilha treinamento\n",
    "probAllSIM = []\n",
    "y = 1\n",
    "for i in range(len(planilhaTREI.Treinamento)):\n",
    "    probLinha = []\n",
    "    for k in range(len(planilhaTREI.Treinamento[i])):\n",
    "        probX = 0\n",
    "        for j in range(len(contandoSim)):\n",
    "            if contandoSim[j][0] == planilhaTREI.Treinamento[i][k]:\n",
    "                probX = (contandoSim[j][1]/len(contandoSim))\n",
    "                break\n",
    "        if probX > 0:\n",
    "            probLinha.append(probX)\n",
    "        elif probX == 0:\n",
    "            probLinha.append(probX+1)\n",
    "    y = 1\n",
    "    for x in probLinha:\n",
    "        y *= x\n",
    "    probAllSIM.append(y)\n",
    "\n",
    "\n",
    "#Calcular a probabilidade de uma frase não ser relevante na planilha treinamento\n",
    "probAllNAO = []\n",
    "y = 1\n",
    "for i in range(len(planilhaTREI.Treinamento)):\n",
    "    probLinha = []\n",
    "    for k in range(len(planilhaTREI.Treinamento[i])):\n",
    "        probX = 0\n",
    "        for j in range(len(contandoNao)):\n",
    "            if contandoNao[j][0] == planilhaTREI.Treinamento[i][k]:\n",
    "                probX = (contandoNao[j][1]/len(contandoNao))\n",
    "                break\n",
    "        if probX > 0:\n",
    "            probLinha.append(probX)\n",
    "        elif probX == 0:\n",
    "            probLinha.append(probX+1)\n",
    "    y = 1\n",
    "    for x in probLinha:\n",
    "        y *= x\n",
    "    probAllNAO.append(y)\n",
    "\n",
    "print(probAllSIM)\n",
    "print('.')\n",
    "print(probAllNAO)\n",
    "print('Prob all sim',len(probAllSIM))\n",
    "print('Prob all nao',len(probAllNAO))"
   ]
  },
  {
   "cell_type": "markdown",
   "metadata": {},
   "source": [
    "___\n",
    "## Verificando a performance\n",
    "\n",
    "Agora você deve testar o seu Classificador com a base de Testes.<br /><br /> \n",
    "\n",
    "Você deve extrair as seguintes medidas:\n",
    "* Porcentagem de positivos falsos (marcados como relevante mas não são relevantes)\n",
    "* Porcentagem de positivos verdadeiros (marcado como relevante e são relevantes)\n",
    "* Porcentagem de negativos verdadeiros (marcado como não relevante e não são relevantes)\n",
    "* Porcentagem de negativos falsos (marcado como não relevante e são relevantes)\n",
    "\n",
    "Opcionalmente:\n",
    "* Criar categorias intermediárias de relevância baseado na diferença de probabilidades. Exemplo: muito relevante, relevante, neutro, irrelevante e muito irrelevante."
   ]
  },
  {
   "cell_type": "code",
   "execution_count": null,
   "metadata": {
    "collapsed": true,
    "scrolled": true
   },
   "outputs": [],
   "source": []
  },
  {
   "cell_type": "markdown",
   "metadata": {
    "collapsed": true
   },
   "source": [
    "___\n",
    "## Concluindo\n",
    "\n",
    "Escreva aqui a sua conclusão.<br /> \n",
    "Faça um comparativo qualitativo sobre as medidas obtidas.<br />\n",
    "Explique como são tratadas as mensagens com dupla negação e sarcasmo.<br />\n",
    "Proponha um plano de expansão. Por que eles devem continuar financiando o seu projeto?<br />\n",
    "\n",
    "Opcionalmente: \n",
    "* Discorrer por que não posso alimentar minha base de Treinamento automaticamente usando o próprio classificador, aplicado a novos tweets.\n",
    "* Propor diferentes cenários de uso para o classificador Naive-Bayes. Cenários sem intersecção com este projeto.\n",
    "* Sugerir e explicar melhorias reais no classificador com indicações concretas de como implementar (não é preciso codificar, mas indicar como fazer e material de pesquisa sobre o assunto).\n"
   ]
  },
  {
   "cell_type": "code",
   "execution_count": null,
   "metadata": {
    "collapsed": true
   },
   "outputs": [],
   "source": []
  }
 ],
 "metadata": {
  "kernelspec": {
   "display_name": "Python 3",
   "language": "python",
   "name": "python3"
  },
  "language_info": {
   "codemirror_mode": {
    "name": "ipython",
    "version": 3
   },
   "file_extension": ".py",
   "mimetype": "text/x-python",
   "name": "python",
   "nbconvert_exporter": "python",
   "pygments_lexer": "ipython3",
   "version": "3.6.1"
  }
 },
 "nbformat": 4,
 "nbformat_minor": 1
}
