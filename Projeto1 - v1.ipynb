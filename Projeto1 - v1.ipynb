{
 "cells": [
  {
   "cell_type": "markdown",
   "metadata": {},
   "source": [
    "___\n",
    "# Ciência dos Dados - PROJETO 1"
   ]
  },
  {
   "cell_type": "markdown",
   "metadata": {},
   "source": [
    "## Rafael Vieira Rosenzvaig\n",
    "___"
   ]
  },
  {
   "cell_type": "markdown",
   "metadata": {},
   "source": [
    "## A Internet virou uma prioridade no Brasil?"
   ]
  },
  {
   "cell_type": "markdown",
   "metadata": {},
   "source": [
    "___\n",
    "## Introdução\n",
    "\n",
    "Durante as últimas décadas, a internet no Brasil veio se difundindo casa vez mais, de modo que mais de 50% (TIC domicílios 2014) dos domicílios brasileiros já tem acesso à internet. Porém, será que a internet tem sido algo que os brasileiros passaram a valorizar mais que outros bens, como a televisão, telefone fixo, entre outros. Ou seja, será que o número de lares com intenet passou o número de lares com meios de comunicação mais tradicionais como a tv, rádio, telefone, entre outros?\n",
    "\n",
    "Artigos relacionados:\n",
    "http://g1.globo.com/tecnologia/noticia/2015/09/pela-1-vez-acesso-internet-chega-50-das-casas-no-brasil-diz-pesquisa.html\n",
    "https://www.tecmundo.com.br/internet/8949-20-anos-de-internet-no-brasil-aonde-chegamos-.htm\n",
    "http://www.brasil.gov.br/ciencia-e-tecnologia/2016/09/pesquisa-revela-que-mais-de-100-milhoes-de-brasileiros-acessam-a-internet\n"
   ]
  },
  {
   "cell_type": "markdown",
   "metadata": {},
   "source": [
    "___\n",
    "## Análise e Resultados"
   ]
  },
  {
   "cell_type": "code",
   "execution_count": 115,
   "metadata": {
    "collapsed": true
   },
   "outputs": [],
   "source": [
    "%matplotlib inline\n",
    "import pandas as pd\n",
    "import math\n",
    "import matplotlib.pyplot as plt\n",
    "import numpy as np\n",
    "import os"
   ]
  },
  {
   "cell_type": "code",
   "execution_count": 116,
   "metadata": {},
   "outputs": [
    {
     "name": "stdout",
     "output_type": "stream",
     "text": [
      "Esperamos trabalhar no diretório\n",
      "C:\\Users\\MacWin\\Documents\\Ciencia dos dados\\PNAD - Projeto 1\n"
     ]
    }
   ],
   "source": [
    "print('Esperamos trabalhar no diretório')\n",
    "print(os.getcwd())"
   ]
  },
  {
   "cell_type": "code",
   "execution_count": 117,
   "metadata": {
    "collapsed": true
   },
   "outputs": [],
   "source": [
    "#Se usar o arquivo descompactado\n",
    "#pd.read_csv('DOM2015.csv',sep=',')\n",
    "\n",
    "#Se usar o arquivo compactado como está no dropbox púbico\n",
    "#pd.read_csv('DOM2015csv.zip', compression='zip', header=0, sep=',', quotechar='\"')"
   ]
  },
  {
   "cell_type": "code",
   "execution_count": 123,
   "metadata": {},
   "outputs": [
    {
     "data": {
      "image/png": "[encoded data removed]",
      "text/plain": [
       "<matplotlib.figure.Figure at 0x1e12bfc15f8>"
      ]
     },
     "metadata": {},
     "output_type": "display_data"
    }
   ],
   "source": [
    "dados = pd.read_csv('DOM2015.csv',sep=\",\")\n",
    "#Internet\n",
    "dados.V02322 = dados.V02322.astype('category')\n",
    "dados.loc[(dados.V02322 == 2),\"DOMICILIO_ACESSO_INTERNET\"] = \"Sim\"\n",
    "dados.loc[(dados.V02322 == 4),\"DOMICILIO_ACESSO_INTERNET\"] = \"Nao\"\n",
    "#Radio\n",
    "dados.V0225 = dados.V0225.astype('category')\n",
    "dados.loc[(dados.V0225 == 1),\"TEM_RADIO\"] = \"Sim\"\n",
    "dados.loc[(dados.V0225 == 3),\"TEM_RADIO\"] = \"Nao\"\n",
    "#DVD\n",
    "dados.V2027 = dados.V2027.astype('category')\n",
    "dados.loc[(dados.V2027 == 1),\"TEM_DVD\"] = \"Sim\"\n",
    "dados.loc[(dados.V2027 == 3),\"TEM_DVD\"] = \"Nao\"\n",
    "#TV de Plasma\n",
    "for i in range(0,11):\n",
    "    dados.loc[(dados.V02270 == i),\"NUMERO_TV_PLASMA\"] = int(i)\n",
    "#TV de Tubo\n",
    "for i in range(0,11):\n",
    "    dados.loc[(dados.V02271 == i),\"NUMERO_TV_TUBO\"] = int(i)\n",
    "#Assinatura de TV\n",
    "dados.V02272 = dados.V02272.astype('category')\n",
    "dados.loc[(dados.V02272 == 1),\"TEM_ASSINATURA_TV\"] = \"Sim\"\n",
    "dados.loc[(dados.V02272 == 3),\"TEM_ASSINATURA_TV\"] = \"Nao\"\n",
    "#GRAFICO\n",
    "acessoInter = (dados.DOMICILIO_ACESSO_INTERNET.value_counts(sort=False))\n",
    "plot = acessoInter.plot(kind='bar',title='Possui internet no domicílio?',figsize=(4, 4),color=('b','g'))\n",
    "plt.ylabel('Freq. Absoluta')\n",
    "plt.show()\n",
    "#TABELA\n",
    "tabela = pd.concat([dados.DOMICILIO_ACESSO_INTERNET,dados.TEM_RADIO,dados.TEM_DVD,dados.NUMERO_TV_PLASMA,dados.NUMERO_TV_TUBO,dados.TEM_ASSINATURA_TV], axis=1)\n",
    "tabela[(dados.DOMICILIO_ACESSO_INTERNET == \"Sim\") | (dados.DOMICILIO_ACESSO_INTERNET == \"Nao\")]\n",
    "tabela[(dados.DOMICILIO_ACESSO_INTERNET == \"Sim\") | (dados.DOMICILIO_ACESSO_INTERNET == \"Nao\")].to_csv('Projeto1_v1_Rafael.csv', sep=',')"
   ]
  },
  {
   "cell_type": "code",
   "execution_count": null,
   "metadata": {
    "collapsed": true
   },
   "outputs": [],
   "source": []
  },
  {
   "cell_type": "markdown",
   "metadata": {},
   "source": [
    "___\n",
    "## Conclusão "
   ]
  },
  {
   "cell_type": "markdown",
   "metadata": {
    "collapsed": true
   },
   "source": [
    "Descreva aqui suas conclusões!"
   ]
  },
  {
   "cell_type": "code",
   "execution_count": null,
   "metadata": {
    "collapsed": true
   },
   "outputs": [],
   "source": []
  }
 ],
 "metadata": {
  "anaconda-cloud": {},
  "kernelspec": {
   "display_name": "Python 3",
   "language": "python",
   "name": "python3"
  },
  "language_info": {
   "codemirror_mode": {
    "name": "ipython",
    "version": 3
   },
   "file_extension": ".py",
   "mimetype": "text/x-python",
   "name": "python",
   "nbconvert_exporter": "python",
   "pygments_lexer": "ipython3",
   "version": "3.6.1"
  }
 },
 "nbformat": 4,
 "nbformat_minor": 1
}
